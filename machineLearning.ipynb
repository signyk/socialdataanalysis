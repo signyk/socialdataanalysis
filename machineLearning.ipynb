{
 "cells": [
  {
   "cell_type": "code",
   "execution_count": 4,
   "metadata": {},
   "outputs": [],
   "source": [
    "import time\n",
    "import numpy as np \n",
    "import pandas as pd \n",
    "import matplotlib.pyplot as plt\n",
    "from matplotlib.pyplot import figure\n",
    "import seaborn as sns\n",
    "from sklearn import preprocessing\n",
    "from sklearn.preprocessing import LabelEncoder\n",
    "from sklearn.preprocessing import StandardScaler\n",
    "from sklearn.model_selection import train_test_split\n",
    "from sklearn.metrics import classification_report,confusion_matrix\n",
    "from sklearn.ensemble import RandomForestClassifier"
   ]
  },
  {
   "cell_type": "code",
   "execution_count": 5,
   "metadata": {},
   "outputs": [],
   "source": [
    "from utils.make_data import get_data, clean_data, get_neighborhoods\n",
    "from utils.const import FIRE_CALL_TYPES\n",
    "from utils.plot_functions import make_bokeh_line_plot, make_map"
   ]
  },
  {
   "cell_type": "code",
   "execution_count": 6,
   "metadata": {},
   "outputs": [
    {
     "name": "stderr",
     "output_type": "stream",
     "text": [
      "/Users/magnea/Desktop/DTU/Social Data/socialdataanalysis/utils/make_data.py:67: DtypeWarning: Columns (19,20) have mixed types. Specify dtype option on import or set low_memory=False.\n",
      "  dat = pd.read_csv(\"data/fireIncidents_clean.csv\", parse_dates=parse_dates)\n"
     ]
    }
   ],
   "source": [
    "dat_raw = get_data()\n",
    "dat = clean_data(dat_raw)"
   ]
  },
  {
   "cell_type": "code",
   "execution_count": 7,
   "metadata": {},
   "outputs": [
    {
     "data": {
      "text/plain": "Index(['call_number', 'unit_id', 'incident_number', 'call_type', 'call_date',\n       'watch_date', 'received_dttm', 'entry_dttm', 'dispatch_dttm',\n       'response_dttm', 'on_scene_dttm', 'transport_dttm', 'hospital_dttm',\n       'call_final_disposition', 'available_dttm', 'address', 'battalion',\n       'station_area', 'Priority', 'als_unit', 'call_type_group',\n       'number_of_alarms', 'unit_type', 'unit_sequence', 'neighborhood',\n       'row_id', 'latitude', 'longitude', 'hour', 'on_scene_time',\n       'transport_time'],\n      dtype='object')"
     },
     "execution_count": 7,
     "metadata": {},
     "output_type": "execute_result"
    }
   ],
   "source": [
    "dat.columns"
   ]
  },
  {
   "cell_type": "code",
   "execution_count": 8,
   "metadata": {},
   "outputs": [],
   "source": [
    "X = dat[[\"battalion\", \"neighborhood\", \"station_area\", \"Priority\", \"hour\"]]\n",
    "y = dat['on_scene_time']"
   ]
  },
  {
   "cell_type": "code",
   "execution_count": 9,
   "metadata": {},
   "outputs": [],
   "source": [
    "X = pd.get_dummies(X, prefix_sep='_')\n",
    "Y = LabelEncoder().fit_transform(y)\n",
    "X = StandardScaler().fit_transform(X)"
   ]
  },
  {
   "cell_type": "code",
   "execution_count": 10,
   "metadata": {},
   "outputs": [],
   "source": [
    "def forest_test(X, Y):\n",
    "    X_Train, X_Test, Y_Train, Y_Test = train_test_split(X, Y, \n",
    "                                                        test_size = 0.30, \n",
    "                                                        random_state = 101)\n",
    "    start = time.process_time()\n",
    "    trainedforest = RandomForestClassifier(n_estimators=700).fit(X_Train,Y_Train)\n",
    "    print(time.process_time() - start)\n",
    "    predictionforest = trainedforest.predict(X_Test)\n",
    "    print(confusion_matrix(Y_Test,predictionforest))\n",
    "    print(classification_report(Y_Test,predictionforest))\n",
    "    return trainedforest"
   ]
  },
  {
   "cell_type": "code",
   "execution_count": 11,
   "metadata": {},
   "outputs": [],
   "source": [
    "trainedforest = forest_test(X, Y)"
   ]
  },
  {
   "cell_type": "code",
   "execution_count": 1,
   "metadata": {},
   "outputs": [
    {
     "ename": "NameError",
     "evalue": "name 'trainedforest' is not defined",
     "output_type": "error",
     "traceback": [
      "\u001b[0;31m---------------------------------------------------------------------------\u001b[0m",
      "\u001b[0;31mNameError\u001b[0m                                 Traceback (most recent call last)",
      "Cell \u001b[0;32mIn[1], line 1\u001b[0m\n\u001b[0;32m----> 1\u001b[0m \u001b[43mtrainedforest\u001b[49m\n",
      "\u001b[0;31mNameError\u001b[0m: name 'trainedforest' is not defined"
     ]
    }
   ],
   "source": [
    "trainedforest"
   ]
  }
 ],
 "metadata": {
  "kernelspec": {
   "display_name": "Python 3.10.11 64-bit ('.env': venv)",
   "language": "python",
   "name": "python31011jvsc74a57bd0fd38d9543e15fadab5f36863efea2d3a3b2dbdd7ef4fd1afa0b517aae91d31c6"
  },
  "language_info": {
   "codemirror_mode": {
    "name": "ipython",
    "version": 3
   },
   "file_extension": ".py",
   "mimetype": "text/x-python",
   "name": "python",
   "nbconvert_exporter": "python",
   "pygments_lexer": "ipython3",
   "version": "3.10.11"
  },
  "metadata": {
   "interpreter": {
    "hash": "98590ff4fe04c8543246b2a01debd3de3c5ca9b666f43f1fa87d5110c692004c"
   }
  },
  "orig_nbformat": 3
 },
 "nbformat": 4,
 "nbformat_minor": 2
}