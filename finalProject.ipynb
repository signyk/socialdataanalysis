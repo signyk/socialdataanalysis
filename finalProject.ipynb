{
 "cells": [
  {
   "attachments": {},
   "cell_type": "markdown",
   "metadata": {},
   "source": [
    "1. **Motivation**.\n",
    "- What is your dataset?\n",
    "- Why did you choose this/these particular dataset(s)?\n",
    "- What was your goal for the end user's experience?"
   ]
  },
  {
   "cell_type": "code",
   "execution_count": null,
   "metadata": {},
   "outputs": [],
   "source": [
    "\"\"\" Importing packages \"\"\"\n",
    "import folium\n",
    "import plotly.express as px\n",
    "\n",
    "# Bokeh\n",
    "from bokeh.plotting import show\n",
    "from bokeh.io import show\n",
    "\n",
    "# Seaborn\n",
    "import seaborn as sns\n",
    "\n",
    "# Local\n",
    "from utils.make_data import get_data, clean_data, get_neighborhoods\n",
    "from utils.const import FIRE_CALL_TYPES\n",
    "from utils.plot_functions import (\n",
    "    make_bokeh_line_plot,\n",
    "    make_map,\n",
    "    make_bokeh_tabs,\n",
    "    make_cal_plot,\n",
    ")"
   ]
  },
  {
   "cell_type": "code",
   "execution_count": null,
   "metadata": {},
   "outputs": [],
   "source": [
    "\"\"\" Importing data \"\"\"\n",
    "# The raw data\n",
    "dat_raw = get_data()\n",
    "# The cleaned data\n",
    "dat = clean_data(dat_raw)\n",
    "# The geojason file with the neighborhoods of San Francisco\n",
    "neighborhoods = get_neighborhoods()\n",
    "\n",
    "# print the names of the columns of the data\n",
    "print(dat.columns)"
   ]
  },
  {
   "attachments": {},
   "cell_type": "markdown",
   "metadata": {},
   "source": [
    "2. **Basic stats**. Let's understand the dataset better\n",
    "- Write about your choices in data cleaning and preprocessing\n",
    "- Write a short section that discusses the dataset stats, containing key points/plots from your exploratory data analysis."
   ]
  },
  {
   "cell_type": "code",
   "execution_count": null,
   "metadata": {},
   "outputs": [],
   "source": [
    "b = sns.boxplot(data = dat, x = \"call_type\", y = \"on_scene_time\",showfliers = False)\n",
    "b.set_xticklabels(b.get_xticklabels(),rotation=90)\n",
    "b.get_figure();"
   ]
  },
  {
   "cell_type": "code",
   "execution_count": null,
   "metadata": {},
   "outputs": [],
   "source": [
    "print(dat[\"call_type\"].unique())\n",
    "fire_call_types = set(['Outside Fire','Structure Fire','Vehicle Fire','Explosion', 'Train / Rail Fire','Structure Fire / Smoke in Building','Electrical Hazard','Confined Space / Structure Collapse', 'Medical Incident',\n",
    " 'Traffic Collision', 'Elevator / Escalator Rescue' ])\n",
    "dat_fire = dat[dat[\"call_type\"].isin(fire_call_types)]"
   ]
  },
  {
   "cell_type": "code",
   "execution_count": null,
   "metadata": {},
   "outputs": [],
   "source": [
    "b = sns.boxplot(data = dat_fire, x = \"battalion\", y = \"on_scene_time\",showfliers = False)\n",
    "b.set_xticklabels(b.get_xticklabels(),rotation=90)\n",
    "b.get_figure();"
   ]
  },
  {
   "cell_type": "code",
   "execution_count": null,
   "metadata": {},
   "outputs": [],
   "source": [
    "b = sns.boxplot(data = dat_fire, x = \"neighborhood\", y = \"on_scene_time\",showfliers = False)\n",
    "b.set_xticklabels(b.get_xticklabels(),rotation=90)\n",
    "b.get_figure();"
   ]
  },
  {
   "cell_type": "code",
   "execution_count": null,
   "metadata": {},
   "outputs": [],
   "source": [
    "b = sns.boxplot(data = dat_fire, x = \"call_type\", y = \"on_scene_time\",showfliers = False)\n",
    "b.set_xticklabels(b.get_xticklabels(),rotation=90)\n",
    "b.get_figure();"
   ]
  },
  {
   "cell_type": "code",
   "execution_count": null,
   "metadata": {},
   "outputs": [],
   "source": [
    "import statsmodels.api as sm\n",
    "from statsmodels.formula.api import ols\n",
    "\n",
    "formula = 'on_scene_time ~ neighborhood + battalion + call_type'\n",
    "\n",
    "model = ols(formula, data=dat_fire).fit()\n",
    "\n",
    "aov_table = sm.stats.anova_lm(model, typ=2)\n",
    "aov_table"
   ]
  },
  {
   "attachments": {},
   "cell_type": "markdown",
   "metadata": {},
   "source": [
    "### Only medical incidents"
   ]
  },
  {
   "cell_type": "code",
   "execution_count": null,
   "metadata": {},
   "outputs": [],
   "source": [
    "dat_med = dat[dat[\"call_type\"] == 'Medical Incident']"
   ]
  },
  {
   "cell_type": "code",
   "execution_count": null,
   "metadata": {},
   "outputs": [],
   "source": [
    "b = sns.boxplot(data = dat_med, x = \"neighborhood\", y = \"on_scene_time\",showfliers = False)\n",
    "b.set_xticklabels(b.get_xticklabels(),rotation=90)\n",
    "b.get_figure();"
   ]
  },
  {
   "attachments": {},
   "cell_type": "markdown",
   "metadata": {},
   "source": [
    "### Time plots"
   ]
  },
  {
   "cell_type": "code",
   "execution_count": null,
   "metadata": {},
   "outputs": [],
   "source": [
    "dat_fire.columns\n",
    "dat_fire = dat_fire[dat_fire[\"neighborhood\"].notna()]\n",
    "dat_fire['Year'] = dat_fire['received_dttm'].dt.year\n",
    "\n",
    "res = dat_fire.groupby(['neighborhood','Year'])[\"on_scene_time\"].mean().reset_index(name='mean')\n",
    "processed_dat=res.pivot(index='Year',columns='neighborhood', values='mean').reset_index()\n",
    "processed_dat=res.pivot(index='Year',columns='neighborhood', values='mean').reset_index()"
   ]
  },
  {
   "cell_type": "code",
   "execution_count": null,
   "metadata": {},
   "outputs": [],
   "source": [
    "pallette = Spectral[11]\n",
    "#output_file(\"bokeh_inter.html\")\n",
    "descripts = ['Hayes Valley', 'South of Market', 'Mission', 'Russian Hill',\n",
    "       'Financial District/South Beach', 'Golden Gate Park', 'Tenderloin',\n",
    "       'Seacliff', 'Outer Mission', 'Bernal Heights', 'Potrero Hill',\n",
    "       'Marina', 'Nob Hill', 'Lakeshore', 'Presidio Heights',\n",
    "       'Lone Mountain/USF', 'Haight Ashbury', 'West of Twin Peaks',\n",
    "       'Noe Valley', 'Bayview Hunters Point', 'Sunset/Parkside',\n",
    "       'Chinatown', 'Pacific Heights', 'Portola', 'Mission Bay',\n",
    "       'Western Addition', 'North Beach', 'Inner Sunset',\n",
    "       'Oceanview/Merced/Ingleside', 'Twin Peaks', 'Castro/Upper Market',\n",
    "       'Excelsior', 'Japantown', 'Inner Richmond', 'Treasure Island',\n",
    "       'Visitacion Valley', 'Presidio', 'Outer Richmond', 'McLaren Park',\n",
    "       'Glen Park', 'Lincoln Park']\n",
    "\n",
    "src = ColumnDataSource(processed_dat)\n",
    "years = [str(i) for i in range(2012,2022)]\n",
    "p = figure(x_range=years, height=500, width=800, title=\"Average response time by neighborhood by years\",\n",
    "            toolbar_location=None, tools=\"hover\")\n",
    "\n",
    "items = [] ### for the custom legend\n",
    "bar ={} # to store vbars\n",
    "### here we will do a for loop:\n",
    "for indx,i in enumerate(descripts):\n",
    "    ### we will create a vbar for each focuscrime\n",
    "    bar[i] = p.line(x='Year', y=i, source= src, alpha=0.9,\n",
    "                    muted_alpha=0.1, width=0.9, line_width=2) \n",
    "    items.append((i, [bar[i]]))\n",
    "    bar[i].visible = True if i==list(descripts)[0] else False\n",
    "    hover = p.select(dict(type=HoverTool))\n",
    "    hover.tooltips = [(\"Year\", \"@Year\"), (\"Value\", \"$y{0}\"),]\n",
    "    #hover.mode = 'mouse'\n",
    "\n",
    "legend = Legend(items=items, location=(0, 10)) ## figure where to add it\n",
    "p.add_layout(legend, 'left')\n",
    "p.legend.click_policy=\"hide\" ### assigns the click policy (you can try to use ''hide')\n",
    "p.xaxis.axis_label = \"Year\"\n",
    "p.yaxis.axis_label = \"Average response time\"\n",
    "p.y_range.only_visible = True\n",
    "p.y_range.start = 0\n",
    "p.sizing_mode = 'scale_width'\n",
    "\n",
    "#bokeh_deepnote_show(p) #displays your plot\n",
    "show(p)"
   ]
  },
  {
   "attachments": {},
   "cell_type": "markdown",
   "metadata": {},
   "source": [
    "3. **Data Analysis**\n",
    "- Describe your data analysis and explain what you've learned about the dataset.\n",
    "- If relevant, talk about your machine-learning."
   ]
  },
  {
   "attachments": {},
   "cell_type": "markdown",
   "metadata": {},
   "source": [
    "4. **Genre**. Which genre of data story did you use?\n",
    "- Which tools did you use from each of the 3 categories of Visual Narrative (Figure 7 in Segal and Heer). Why?\n",
    "- Which tools did you use from each of the 3 categories of Narrative Structure (Figure 7 in Segal and Heer). Why?\n"
   ]
  },
  {
   "attachments": {},
   "cell_type": "markdown",
   "metadata": {},
   "source": [
    "5. **Visualizations**.\n",
    "- Explain the visualizations you've chosen.\n",
    "- Why are they right for the story you want to tell?"
   ]
  },
  {
   "attachments": {},
   "cell_type": "markdown",
   "metadata": {},
   "source": [
    "6. **Discussion**. Think critically about your creation\n",
    "- What went well?,\n",
    "- What is still missing? What could be improved?, Why?\n"
   ]
  },
  {
   "attachments": {},
   "cell_type": "markdown",
   "metadata": {},
   "source": [
    "7. **Contributions**. Who did what?\n",
    "- You should write (just briefly) which group member was the main responsible for which elements of the assignment. (I want you guys to understand every part of the assignment, but usually there is someone who took lead role on certain portions of the work. That's what you should explain).\n",
    "- It is not OK simply to write \"All group members contributed equally\"."
   ]
  },
  {
   "attachments": {},
   "cell_type": "markdown",
   "metadata": {},
   "source": [
    "8. Make sure that you use references when they're needed and follow academic standards."
   ]
  }
 ],
 "metadata": {
  "kernelspec": {
   "display_name": "Python 3.10.11 64-bit ('.env': venv)",
   "name": "python31011jvsc74a57bd0fd38d9543e15fadab5f36863efea2d3a3b2dbdd7ef4fd1afa0b517aae91d31c6"
  },
  "language_info": {
   "codemirror_mode": {
    "name": "ipython",
    "version": 3
   },
   "file_extension": ".py",
   "mimetype": "text/x-python",
   "name": "python",
   "nbconvert_exporter": "python",
   "pygments_lexer": "ipython3",
   "version": "3.10.11"
  },
  "orig_nbformat": 3
 },
 "nbformat": 4,
 "nbformat_minor": 2
}
